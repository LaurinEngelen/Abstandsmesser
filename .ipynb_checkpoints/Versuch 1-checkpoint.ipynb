{
 "cells": [
  {
   "cell_type": "code",
   "execution_count": null,
   "id": "ca3611b1-62e4-4b0d-9a0a-9e7b870e4c96",
   "metadata": {
    "is_executing": true,
    "ExecuteTime": {
     "start_time": "2024-10-28T14:09:24.265221Z"
    }
   },
   "outputs": [],
   "source": [
    "import numpy as np\n",
    "import matplotlib.pyplot as plt\n",
    "import glob\n",
    "\n",
    "# Liste zur Speicherung der Entfernungs- und Spannungswerte\n",
    "distances = []\n",
    "average_voltages = []\n",
    "std_devs = []\n",
    "\n",
    "# Einlesen aller CSV-Dateien im Verzeichnis\n",
    "# Gehen wir davon aus, dass die Dateien im Ordner 'data/' liegen und das Format 'messung_*.csv' haben\n",
    "file_paths = glob.glob('messwerte/*.csv')\n",
    "\n",
    "# Jede Datei einzeln verarbeiten\n",
    "for file_path in file_paths:\n",
    "    # Extrahieren Sie die Distanz aus dem Dateinamen (z.B. 'messung_10cm.csv')\n",
    "    distance = int(file_path.split('_')[-1].replace('cm.csv', ''))\n",
    "    distances.append(distance)\n",
    "    \n",
    "    # CSV-Datei einlesen und die ersten 1000 Werte überspringen\n",
    "    data = np.genfromtxt(file_path, delimiter=',', skip_header=1000)\n",
    "    \n",
    "    # Mittelwert und Standardabweichung der Spannung berechnen\n",
    "    mean_voltage = np.mean(data)\n",
    "    std_dev = np.std(data)\n",
    "    \n",
    "    # Werte zur Liste hinzufügen\n",
    "    average_voltages.append(mean_voltage)\n",
    "    std_devs.append(std_dev)\n",
    "\n",
    "# Daten sortieren (nach Distanz) für eine saubere Darstellung der Übertragungsfunktion\n",
    "sorted_data = sorted(zip(distances, average_voltages, std_devs))\n",
    "distances, average_voltages, std_devs = zip(*sorted_data)\n",
    "\n",
    "# Darstellung der Übertragungsfunktion mit Fehlerbalken\n",
    "plt.errorbar(distances, average_voltages, yerr=std_devs, fmt='o', capsize=5, label=\"Mittelwert der Spannung\")\n",
    "plt.xlabel(\"Distanz (cm)\")\n",
    "plt.ylabel(\"Mittlere Spannung (V)\")\n",
    "plt.title(\"Übertragungsfunktion des Sensors\")\n",
    "plt.legend()\n",
    "plt.grid(True)\n",
    "plt.show()\n"
   ]
  }
 ],
 "metadata": {
  "kernelspec": {
   "display_name": "Python 3 (ipykernel)",
   "language": "python",
   "name": "python3"
  },
  "language_info": {
   "codemirror_mode": {
    "name": "ipython",
    "version": 3
   },
   "file_extension": ".py",
   "mimetype": "text/x-python",
   "name": "python",
   "nbconvert_exporter": "python",
   "pygments_lexer": "ipython3",
   "version": "3.12.4"
  }
 },
 "nbformat": 4,
 "nbformat_minor": 5
}
